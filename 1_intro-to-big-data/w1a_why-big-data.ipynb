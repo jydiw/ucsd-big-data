{
 "cells": [
  {
   "cell_type": "markdown",
   "metadata": {},
   "source": [
    "# Why Big Data?\n",
    "\n",
    "The benefits of big data can be split into two categories: **prediction** and **response**. From here, we can outline three broad contributions from big data:\n",
    "\n",
    "- monitoring\n",
    "- visualization\n",
    "- modeling\n",
    "\n",
    "Practically speaking, technology needs to reach a certain level of maturity in conjunction with a socioeconomic environment, market demand, consumer readiness, and cost effectiveness.\n",
    "\n",
    "- reduced cost of data analysis\n",
    "- increased availability of cheap data storage\n",
    "- increased digitization of previously analog data records\n",
    "\n",
    "## Objectives\n",
    "- describe how the combination of an increase in data and on-demand computing has launched the field of data science\n",
    "- describe examples from fields where big data has enabled better models"
   ]
  },
  {
   "cell_type": "markdown",
   "metadata": {},
   "source": [
    "## Vocabulary\n",
    "\n",
    "- **big data** -- large data sets that cannot be handled within traditional data-processing software.\n",
    "- **cloud computing**, or *on-demand computing* -- the use of remote computing resources. Companies such as Amazon, Google, and Microsoft have services that separate compute power from data storage and allow a task to be computed on one or more remote processors.\n",
    "- **data velocity** -- the rate at which data is generated\n",
    "- **natural language processing** -- analyzing natural language for use in mathematical models"
   ]
  },
  {
   "cell_type": "markdown",
   "metadata": {},
   "source": [
    "## Examples of Big Data Usage\n",
    "\n",
    "- **recommendation engines**\n",
    "- **sentiment analysis**\n",
    "- **personalized medicine**\n",
    "- **traffic flow analysis**\n",
    "- **real-time fitness tracking**"
   ]
  },
  {
   "cell_type": "markdown",
   "metadata": {},
   "source": [
    "### Case Study: Wildfire Analytics\n",
    "\n",
    "On May 2014, San Diego had 14 active fires which burned a total of 26k acres. How can big data help?\n",
    "\n",
    "- people\n",
    "- organizations\n",
    "- sensors\n",
    "\n",
    "Disaster management lacks a dynamic system of integration of real-time sensor networks, satellite imagery, wildfire simulation tools, emergency command centers, and even social media."
   ]
  },
  {
   "cell_type": "markdown",
   "metadata": {},
   "source": [
    "### Case Study: Precision Medicine"
   ]
  },
  {
   "cell_type": "markdown",
   "metadata": {},
   "source": [
    "## Where does Big Data come from?\n",
    "\n",
    "Three major sources of data:\n",
    "- machines -- instruments, sensors, recordings\n",
    "- people -- social media, photos\n",
    "- organizations -- structured data stored in databases\n",
    "\n",
    "Data then undergo the following workflow in order to be processed:\n",
    "- acquisition\n",
    "- storage\n",
    "- cleaning\n",
    "- retrieval\n",
    "- processing\n",
    "\n",
    "With a greater availability of data, there are greater challenges on how we can effectively gain insights in a cost- and time-effective way."
   ]
  },
  {
   "cell_type": "markdown",
   "metadata": {},
   "source": [
    "### Machine-Generated Data\n",
    "\n",
    "Machine-generated data describes data that is collected in real-time from various sensor sources. Because these sensors have the capacity to continuously collect environmental data, machine data produces an incredibly high volume of data, making it the biggest source of Big Data.\n",
    "\n",
    "- **smart** devices -- machines with some kind of sensing capability\n",
    "    - connection to other devices / networks\n",
    "    - autonomous collection and analysis of data\n",
    "    - provision of environmental context\n",
    "- **the Internet of Things** -- the interconnection of multiple smart devices\n",
    "- **in-situ processing**: bringing the computation where the data is generated in real-time\n",
    "\n",
    "The increased ubiquity of these devices have the following consequences with regards to our big data strategy:\n",
    "- a culture shirt towards real-time operations\n",
    "- an increase demand and availability of scalable computing (AWS, Azure, GCP, etc.)"
   ]
  },
  {
   "cell_type": "markdown",
   "metadata": {},
   "source": [
    "### People-Generated Data\n",
    "\n",
    "People-generated data refers to the data that we generate from our daily, digitized activity. Examples include text, video, audio, internet searches, and emails. There are many challenges to processing people data:\n",
    "\n",
    "- people data are mostly text-heavy and largely unstructured\n",
    "- people data is very high-volume, and are commonly in the petabyte scale per day\n",
    "\n",
    "These data sources come in a variety of formats, as they were originally intended for human consumption and not for data analysis.\n",
    "\n",
    "Compilation of unstructured data is tedious, time-consuming, and therefore costly."
   ]
  },
  {
   "cell_type": "code",
   "execution_count": null,
   "metadata": {},
   "outputs": [],
   "source": []
  }
 ],
 "metadata": {
  "kernelspec": {
   "display_name": "Python 3",
   "language": "python",
   "name": "python3"
  },
  "language_info": {
   "codemirror_mode": {
    "name": "ipython",
    "version": 3
   },
   "file_extension": ".py",
   "mimetype": "text/x-python",
   "name": "python",
   "nbconvert_exporter": "python",
   "pygments_lexer": "ipython3",
   "version": "3.7.7"
  },
  "toc-autonumbering": true,
  "toc-showmarkdowntxt": false,
  "toc-showtags": false
 },
 "nbformat": 4,
 "nbformat_minor": 4
}
